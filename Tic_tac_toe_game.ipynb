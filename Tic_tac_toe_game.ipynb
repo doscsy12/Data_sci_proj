{
 "cells": [
  {
   "cell_type": "markdown",
   "metadata": {},
   "source": [
    "# Tic Tac Toe game\n"
   ]
  },
  {
   "cell_type": "markdown",
   "metadata": {},
   "source": [
    "The aim of this notebook is to create a Tic Tac Toe game."
   ]
  },
  {
   "cell_type": "code",
   "execution_count": 1,
   "metadata": {},
   "outputs": [],
   "source": [
    "from IPython.display import clear_output\n",
    "\n",
    "#def format_row(row):\n",
    "#    return '|' + '|'.join('{0:^3s}'.format(x) for x in row) + '|'\n",
    "\n",
    "def display_board(board):\n",
    "#   return ''.join(format_row(row) for row in board)\n",
    "    clear_output()\n",
    "    print(board[1] + ' | ' + board[2] + ' | ' + board[3])\n",
    "    print('----------')\n",
    "    print(board[4] + ' | ' + board[5] + ' | ' + board[6])\n",
    "    print('----------')\n",
    "    print(board[7] + ' | ' + board[8] + ' | ' + board[9])"
   ]
  },
  {
   "cell_type": "code",
   "execution_count": 2,
   "metadata": {},
   "outputs": [],
   "source": [
    "def player_input():\n",
    "    marker = ''\n",
    "    \n",
    "    # ask player1 to choose either 'X' or 'O'\n",
    "    while marker != 'X' and marker != 'O':\n",
    "        marker = input(\"Player 1, please choose X or O:  \")\n",
    "    \n",
    "    # assign player2 the other \n",
    "    player1 = marker\n",
    "    if player1 == 'X':\n",
    "        return ('X', 'O')\n",
    "    else:\n",
    "        return ('O', 'X')\n",
    "        "
   ]
  },
  {
   "cell_type": "code",
   "execution_count": 3,
   "metadata": {},
   "outputs": [],
   "source": [
    "clear_output()\n",
    "def place_marker(board, marker, position):\n",
    "#    print(['1','2','3'])\n",
    "#    print(['4','5','6'])\n",
    "#    print(['7','8','9'])\n",
    "     \n",
    "#    board = ['']*10\n",
    "    board[position] = marker\n",
    "#   return board\n"
   ]
  },
  {
   "cell_type": "code",
   "execution_count": 4,
   "metadata": {},
   "outputs": [],
   "source": [
    "def win_check(board, mark):\n",
    "    if ((board[7] == mark and board[8] == mark and board[9] == mark) or # bottom\n",
    "    (board[4] == mark and board[5] == mark and board[6] == mark) or # middle\n",
    "    (board[1] == mark and board[2] == mark and board[3] == mark) or # top\n",
    "    (board[7] == mark and board[4] == mark and board[1] == mark) or # left\n",
    "    (board[8] == mark and board[5] == mark and board[2] == mark) or # middle\n",
    "    (board[9] == mark and board[6] == mark and board[3] == mark) or # right\n",
    "    (board[7] == mark and board[5] == mark and board[3] == mark) or # diagonal\n",
    "    (board[9] == mark and board[5] == mark and board[1] == mark)): # diagonal\n",
    "        return True\n",
    "    else: \n",
    "        return False\n",
    "        "
   ]
  },
  {
   "cell_type": "code",
   "execution_count": 5,
   "metadata": {},
   "outputs": [],
   "source": [
    "import random\n",
    "\n",
    "def choose_first():\n",
    "    if random.randint(1, 2) == 1:\n",
    "        print('Player 1')\n",
    "        return 'Player 1'\n",
    "    else:\n",
    "        print('Player 2')\n",
    "        return 'Player 2'"
   ]
  },
  {
   "cell_type": "code",
   "execution_count": 6,
   "metadata": {},
   "outputs": [],
   "source": [
    "def space_check(board, position):\n",
    "    if board[position] == '':\n",
    "        return True\n",
    "    else:\n",
    "        return False\n"
   ]
  },
  {
   "cell_type": "code",
   "execution_count": 7,
   "metadata": {},
   "outputs": [],
   "source": [
    "def full_board_check(board):\n",
    "    for i in range(1,10):\n",
    "        if board[i] == '':\n",
    "            return False\n",
    "    return True"
   ]
  },
  {
   "cell_type": "code",
   "execution_count": 8,
   "metadata": {},
   "outputs": [],
   "source": [
    "def player_choice(board):\n",
    "    \n",
    "    choice = int(input(\"Please input a position (1-9): \"))\n",
    "    if space_check(board, choice):\n",
    "        return choice\n",
    "    else:\n",
    "        print('space taken')"
   ]
  },
  {
   "cell_type": "code",
   "execution_count": 9,
   "metadata": {},
   "outputs": [],
   "source": [
    "def replay():\n",
    "    choice = 'wrong'\n",
    "\n",
    "    while choice not in ['Y','N']:\n",
    "        choice = input(\"Would you like to keep playing? Y or N \")\n",
    "\n",
    "        if choice not in ['Y','N']:\n",
    "            # THIS CLEARS THE CURRENT OUTPUT BELOW THE CELL\n",
    "            clear_output()\n",
    "            print(\"Sorry, I didn't understand. Please make sure to choose Y or N.\")  \n",
    "\n",
    "    if choice == \"Y\":\n",
    "        # Game is still on\n",
    "        return True\n",
    "    else:\n",
    "        # Game is over\n",
    "        return False\n",
    "    pass"
   ]
  },
  {
   "cell_type": "code",
   "execution_count": 10,
   "metadata": {},
   "outputs": [
    {
     "name": "stdout",
     "output_type": "stream",
     "text": [
      " | X | O\n",
      "----------\n",
      "X | O | X\n",
      "----------\n",
      "O |  | \n",
      "Player 2 won! \n"
     ]
    }
   ],
   "source": [
    "print('Welcome to Tic Tac Toe!')\n",
    "\n",
    "#print(['1','2','3'])\n",
    "#print(['4','5','6'])\n",
    "#print(['7','8','9'])\n",
    "\n",
    "a=int(input('1 or 2'))\n",
    "\n",
    "while a == 1: \n",
    "    game_board=['']*10\n",
    "    display_board(game_board)\n",
    "\n",
    "    # ask player1 to choose 'X' or 'O'\n",
    "    player1, player2 = player_input()\n",
    "    \n",
    "    # randomly decide which player goes first\n",
    "    play = choose_first()\n",
    "\n",
    "    game = input('Enter Y to play, or N to stop.')\n",
    "    if game == 'Y':\n",
    "        game_on = True\n",
    "    else:\n",
    "        game_on = False\n",
    "\n",
    "    while game_on:\n",
    "        if play == 'Player 1': \n",
    "            #Player 1 Turn\n",
    "            #player select position on board\n",
    "            display_board(game_board)\n",
    "            position = player_choice(game_board) \n",
    "            place_marker(game_board, player1, position)\n",
    "            display_board(game_board)\n",
    "        \n",
    "            # check if player has won\n",
    "            if win_check(game_board, player1):\n",
    "                display_board(game_board)\n",
    "                print('Player 1 won! ')\n",
    "                game_on = False\n",
    "            else:\n",
    "                # check if board is full\n",
    "                if full_board_check(game_board):\n",
    "                    display_board(game_board)\n",
    "                    print('It is a draw!')\n",
    "                    game_on = False\n",
    "                    break\n",
    "                else:\n",
    "                    play = 'Player 2'\n",
    " \n",
    "        else:\n",
    "            # Player2's turn.\n",
    "            #player select position on board\n",
    "            display_board(game_board)\n",
    "            position = player_choice(game_board) \n",
    "            place_marker(game_board, player2, position)\n",
    "            display_board(game_board)\n",
    "        \n",
    "            # check if player has won\n",
    "            if win_check(game_board, player2):\n",
    "                display_board(game_board)\n",
    "                print('Player 2 won! ')\n",
    "                game_on = False\n",
    "            else:\n",
    "                # check if board is full\n",
    "                if full_board_check(game_board):\n",
    "                    display_board(game_board)\n",
    "                    print('It is a draw!')\n",
    "                    game_on = False\n",
    "                    break\n",
    "                else:\n",
    "                    play = 'Player 1'\n",
    "            \n",
    "    else:\n",
    "        break\n",
    "        \n",
    "#    if not replay():\n",
    "#        break"
   ]
  }
 ],
 "metadata": {
  "kernelspec": {
   "display_name": "Python 3",
   "language": "python",
   "name": "python3"
  },
  "language_info": {
   "codemirror_mode": {
    "name": "ipython",
    "version": 3
   },
   "file_extension": ".py",
   "mimetype": "text/x-python",
   "name": "python",
   "nbconvert_exporter": "python",
   "pygments_lexer": "ipython3",
   "version": "3.8.8"
  },
  "toc": {
   "base_numbering": 1,
   "nav_menu": {},
   "number_sections": true,
   "sideBar": true,
   "skip_h1_title": false,
   "title_cell": "Table of Contents",
   "title_sidebar": "Contents",
   "toc_cell": false,
   "toc_position": {},
   "toc_section_display": true,
   "toc_window_display": false
  }
 },
 "nbformat": 4,
 "nbformat_minor": 1
}
